{
 "cells": [
  {
   "cell_type": "code",
   "execution_count": null,
   "metadata": {},
   "outputs": [],
   "source": [
    "!pip install --upgrade tensorflow keras"
   ]
  },
  {
   "cell_type": "code",
   "execution_count": null,
   "metadata": {
    "id": "muWls2--Ag10"
   },
   "outputs": [],
   "source": [
    "import matplotlib.pyplot as plt\n",
    "import numpy as np \n",
    "import pandas as pd\n",
    "import os\n",
    "import cv2\n",
    "import tensorflow as tf\n",
    "from bs4 import BeautifulSoup\n",
    "from sklearn.model_selection import train_test_split"
   ]
  },
  {
   "cell_type": "code",
   "execution_count": null,
   "metadata": {
    "id": "VQMPubo-Am_n"
   },
   "outputs": [],
   "source": [
    "# resize the image\n",
    "IMAGE_RESIZE_X = 200\n",
    "IMAGE_RESIZE_Y = 200"
   ]
  },
  {
   "cell_type": "markdown",
   "metadata": {
    "id": "0_2QGT7qBqNH"
   },
   "source": [
    "# Read car images and resize them"
   ]
  },
  {
   "cell_type": "code",
   "execution_count": null,
   "metadata": {
    "colab": {
     "base_uri": "https://localhost:8080/"
    },
    "id": "YmZSzholAohQ",
    "outputId": "037a8393-430c-463d-e9c5-aded52539c36"
   },
   "outputs": [],
   "source": [
    "car_folder_path = 'C:\\\\Users\\\\Dell\\\\NumberPlateDetection\\\\rawData\\\\images' \n",
    "\n",
    "car_image_name_list = list()\n",
    "for car_image in os.listdir(car_folder_path):\n",
    "    full_path = os.path.join(car_folder_path, car_image)\n",
    "    car_image_name_list.append(full_path)\n",
    "# sort the cars by their index in ascending order\n",
    "car_image_name_list = sorted(car_image_name_list, key=lambda x: int(x.split(os.path.sep)[-1].split('.')[0][4:]))\n",
    "\n",
    "# read in car images and resize\n",
    "resized_car_images_list = list()    \n",
    "for full_path in car_image_name_list:\n",
    "    car_image = cv2.imread(full_path)\n",
    "    car_resize_image = cv2.resize(car_image, (IMAGE_RESIZE_X, IMAGE_RESIZE_Y))\n",
    "    resized_car_images_list.append(np.array(car_resize_image))\n",
    "\n",
    "print('Read in {} resized car images'.format(len(resized_car_images_list)))"
   ]
  },
  {
   "cell_type": "code",
   "execution_count": null,
   "metadata": {
    "colab": {
     "base_uri": "https://localhost:8080/",
     "height": 286
    },
    "id": "KB1S2UBkBYBa",
    "outputId": "ab0d944f-6f2a-4321-823c-4e4bc8e8c310"
   },
   "outputs": [],
   "source": [
    "plt.imshow(cv2.cvtColor(resized_car_images_list[0], cv2.COLOR_BGR2RGB))"
   ]
  },
  {
   "cell_type": "code",
   "execution_count": null,
   "metadata": {
    "id": "JSGZL-K_Bapg"
   },
   "outputs": [],
   "source": [
    "# Read licence plate annotations and resize them"
   ]
  },
  {
   "cell_type": "code",
   "execution_count": null,
   "metadata": {
    "colab": {
     "base_uri": "https://localhost:8080/"
    },
    "id": "C9MfW9jkBZ9O",
    "outputId": "11070712-8b7e-4ab3-f6bf-11cedc23642e"
   },
   "outputs": [],
   "source": [
    "plate_folder_path = 'C:\\\\Users/Dell\\\\NumberPlateDetection\\\\rawData\\\\annotations'\n",
    "\n",
    "plate_name_list = list()\n",
    "for plate_file in os.listdir(plate_folder_path):\n",
    "    full_path = os.path.join(plate_folder_path, plate_file)\n",
    "    plate_name_list.append(full_path)\n",
    "plate_name_list = sorted(plate_name_list, key=lambda x: int(x.split(os.path.sep)[-1].split('.')[0][4:]))  \n",
    "\n",
    "resized_plate_location_list = list()\n",
    "for full_path in plate_name_list:\n",
    "    xml_file = open(full_path, 'r')\n",
    "    bs = BeautifulSoup(xml_file, \"xml\")\n",
    "    \n",
    "    width = int(bs.find('width').text)\n",
    "    height = int(bs.find('height').text)\n",
    "    \n",
    "    xMax = int(bs.find('xmax').text) * (IMAGE_RESIZE_X / width)\n",
    "    xMin = int(bs.find('xmin').text) * (IMAGE_RESIZE_X / width)\n",
    "    yMax = int(bs.find('ymax').text) * (IMAGE_RESIZE_Y / height)\n",
    "    yMin = int(bs.find('ymin').text) * (IMAGE_RESIZE_Y / height)\n",
    "    resized_plate_location_list.append([int(xMax), int(xMin), int(yMax), int(yMin)])\n",
    "    \n",
    "print('Read in {} resized plate info'.format(len(plate_name_list)))"
   ]
  },
  {
   "cell_type": "code",
   "execution_count": null,
   "metadata": {
    "colab": {
     "base_uri": "https://localhost:8080/",
     "height": 483
    },
    "id": "PNp0iw-EBxX3",
    "outputId": "a5bc67fa-4809-4c93-a0f6-2e6b52abb4ee"
   },
   "outputs": [],
   "source": [
    "plt.figure(figsize=(16,8))\n",
    "for i in range(8):\n",
    "    plt.subplot(2, 4, i+1)\n",
    "    \n",
    "    # locate the plate location based on label\n",
    "    top_left = (resized_plate_location_list[i][1], resized_plate_location_list[i][3])\n",
    "    bottom_right = (resized_plate_location_list[i][0], resized_plate_location_list[i][2])\n",
    "    \n",
    "    # draw bounding box on the copy of resized car image so that we have original image to train with\n",
    "    car_image_copy = resized_car_images_list[i].copy()\n",
    "    \n",
    "    # display the car image with plate around\n",
    "    cv2.rectangle(car_image_copy, top_left, bottom_right, color=(0, 255, 0), thickness=2)\n",
    "    plt.imshow(cv2.cvtColor(car_image_copy, cv2.COLOR_BGR2RGB))"
   ]
  },
  {
   "cell_type": "code",
   "execution_count": null,
   "metadata": {
    "id": "ZJ4n_HvqLwhg"
   },
   "outputs": [],
   "source": [
    "def splitTrainTestSet():\n",
    "  # X would be the array representation of resized car image\n",
    "  # y would be the plate location \n",
    "\n",
    "  resized_car_images_list_np = np.array(resized_car_images_list)\n",
    "  resized_plate_location_list_np = np.array(resized_plate_location_list)\n",
    "\n",
    "  # normalization\n",
    "  normalized_X = resized_car_images_list_np/255 # make all pixel color ranges from 0 to 1 instead of 0 to 255\n",
    "  normalized_y = resized_plate_location_list_np/200\n",
    "\n",
    "  X_train, X_test, y_train, y_test = train_test_split(normalized_X, normalized_y, test_size=0.1, random_state=7)\n",
    "  \n",
    "  return X_train, X_test, y_train, y_test "
   ]
  },
  {
   "cell_type": "code",
   "execution_count": null,
   "metadata": {
    "id": "QiM2R7OnB1JO"
   },
   "outputs": [],
   "source": [
    "def setupModel(modelType):\n",
    "  cnn = keras.models.Sequential()\n",
    "\n",
    "  if modelType == 'VGG16':\n",
    "    cnn.add(VGG16(weights=\"imagenet\", include_top=False, input_shape=(IMAGE_RESIZE_X, IMAGE_RESIZE_Y, 3)))\n",
    "    cnn.add(keras.layers.Dropout(0.1))\n",
    "    cnn.add(Flatten())\n",
    "    cnn.add(Dense(128, activation=\"relu\"))\n",
    "    cnn.add(Dense(128, activation=\"relu\"))\n",
    "    cnn.add(Dense(64, activation=\"relu\"))\n",
    "    # we want the output with 4 points which are the four corners of the plate\n",
    "    cnn.add(Dense(4, activation=\"sigmoid\"))\n",
    "    #cnn.layers[-6].trainable = False\n",
    "  \n",
    "  elif modelType == 'cnn':\n",
    "    cnn.add(keras.layers.Conv2D(filters=16, kernel_size=5, input_shape=(IMAGE_RESIZE_X,IMAGE_RESIZE_Y,3), padding='same'))\n",
    "    cnn.add(keras.layers.MaxPooling2D(pool_size=(2, 2), padding='same'))\n",
    "    cnn.add(keras.layers.Dropout(0.1))\n",
    "    cnn.add(keras.layers.Conv2D(filters=32, kernel_size=5, padding='same'))\n",
    "    cnn.add(keras.layers.MaxPooling2D(pool_size=(2, 2), padding='same'))\n",
    "    cnn.add(keras.layers.Conv2D(filters=64, kernel_size=5, padding='same'))\n",
    "    cnn.add(keras.layers.MaxPooling2D(pool_size=(2, 2), padding='same'))\n",
    "    cnn.add(keras.layers.Dropout(0.1))\n",
    "    cnn.add(keras.layers.Conv2D(filters=32, kernel_size=5, padding='same'))\n",
    "    cnn.add(keras.layers.MaxPooling2D(pool_size=(2, 2), padding='same'))\n",
    "    cnn.add(Flatten())\n",
    "    # fully connected layer\n",
    "    cnn.add(Dense(128, activation=\"relu\"))\n",
    "    cnn.add(Dense(64, activation=\"relu\"))\n",
    "    # we want the output with 4 points which are the four corners of the plate\n",
    "    cnn.add(keras.layers.Dense(4, activation=\"sigmoid\"))\n",
    "\n",
    "  return cnn"
   ]
  },
  {
   "cell_type": "markdown",
   "metadata": {
    "id": "pxL67DuOPMsi"
   },
   "source": []
  },
  {
   "cell_type": "code",
   "execution_count": null,
   "metadata": {
    "colab": {
     "base_uri": "https://localhost:8080/"
    },
    "id": "5u21JH96MW4d",
    "outputId": "76215a5d-4e6a-4e76-f902-43083a116354"
   },
   "outputs": [],
   "source": [
    "import keras\n",
    "from keras.layers import Dense, Flatten\n",
    "from keras.applications.vgg16 import VGG16\n",
    "\n",
    "cnn = setupModel(modelType='VGG16')\n",
    "cnn.summary()\n",
    "\n",
    "X_train, X_test, y_train, y_test  = splitTrainTestSet()"
   ]
  },
  {
   "cell_type": "code",
   "execution_count": null,
   "metadata": {
    "colab": {
     "base_uri": "https://localhost:8080/"
    },
    "id": "BOagxlAWB2cX",
    "outputId": "50123d41-71da-4956-f787-32f53f9b0afd"
   },
   "outputs": [],
   "source": [
    "cnn.compile(loss='mean_squared_error', optimizer='adam', metrics=['accuracy'])\n",
    "\n",
    "train = cnn.fit(X_train, y_train, validation_data=(X_test, y_test), epochs=50, batch_size=50, verbose=1)"
   ]
  },
  {
   "cell_type": "code",
   "execution_count": null,
   "metadata": {
    "colab": {
     "base_uri": "https://localhost:8080/"
    },
    "id": "47BbWz0wB33z",
    "outputId": "43768953-d9ea-41f5-bbbb-99cd0f3849d0"
   },
   "outputs": [],
   "source": [
    "# Test\n",
    "scores = cnn.evaluate(X_test, y_test, verbose=0)\n",
    "print(\"Score : %.2f%%\" % (scores[1]*100))"
   ]
  },
  {
   "cell_type": "code",
   "execution_count": null,
   "metadata": {
    "colab": {
     "base_uri": "https://localhost:8080/",
     "height": 295
    },
    "id": "b0SeUpUuB4-A",
    "outputId": "87cded88-467f-41d2-c946-9e1faa4ea4bd"
   },
   "outputs": [],
   "source": [
    "accuracy = train.history['accuracy']\n",
    "val_accuracy = train.history['val_accuracy']\n",
    "epochs = range(len(accuracy))\n",
    "plt.plot(epochs, accuracy, 'b', label='Training set accuracy')\n",
    "plt.plot(epochs, val_accuracy, 'r', label='Test set accuracy')\n",
    "plt.title('Scores')\n",
    "plt.xlabel('Epochs')\n",
    "plt.ylabel('Accuracy')\n",
    "plt.yticks(np.linspace(0, 1, 11))\n",
    "\n",
    "plt.legend()\n",
    "plt.show()"
   ]
  },
  {
   "cell_type": "code",
   "execution_count": null,
   "metadata": {
    "colab": {
     "base_uri": "https://localhost:8080/",
     "height": 314
    },
    "id": "CUhFBsIjB6NZ",
    "outputId": "82981f85-c755-4b3f-8739-aa079ef5e6a9"
   },
   "outputs": [],
   "source": [
    "# read in car images and resize\n",
    "\n",
    "test_image_folder = 'C:\\Users\\Dell\\NumberPlateDetection\\rawData'\n",
    "test_image_list = ['img1.jpg', 'img5.jpg', 'img7.jpg']    \n",
    "resized_test_image_list = list()\n",
    "orginal_test_image_list = list()\n",
    "test_image_orginal_size = list()\n",
    "for test_image in test_image_list:\n",
    "    full_path = os.path.join(test_image_folder, test_image)\n",
    "    car_image = cv2.imread(full_path)\n",
    "    orginal_test_image_list.append(car_image)\n",
    "    test_image_orginal_size.append(car_image.shape)\n",
    "    car_resize_image = cv2.resize(car_image, (IMAGE_RESIZE_X, IMAGE_RESIZE_Y))\n",
    "    resized_test_image_list.append(np.array(car_resize_image))\n",
    "\n",
    "resized_test_image_list = np.array(resized_test_image_list)\n",
    "# normalization\n",
    "# this is important because our cnn network takes normalized input\n",
    "resized_test_image_list = resized_test_image_list / 255\n",
    "\n",
    "# make prediction\n",
    "plate_location = cnn.predict(resized_test_image_list)\n",
    "    \n",
    "# plot the result\n",
    "plt.figure(figsize=(16,8))\n",
    "for i in range(3):\n",
    "    plt.subplot(1, 3, i+1)\n",
    "    \n",
    "    # draw bounding box on the copy of resized car image so that we have original image to train with\n",
    "    car_image_copy = resized_test_image_list[i].copy()\n",
    "    car_image_copy = car_image_copy * 255 # get original car image size\n",
    "    car_image_copy = car_image_copy.astype('uint8') # cast to uint8 so that we can plot with normal RGB color\n",
    "    \n",
    "    # locate the plate location based on label\n",
    "    # the output of the cnn is still normalized output, so we need to get the original dimension\n",
    "    top_left = (int(plate_location[i][1] * 200), int(plate_location[i][3] * 200))\n",
    "    bottom_right = (int(plate_location[i][0] * 200), int(plate_location[i][2] * 200))\n",
    "\n",
    "    # display the car image with plate\n",
    "    cv2.rectangle(car_image_copy, top_left, bottom_right, color=(0, 255, 0), thickness=2)\n",
    "    plt.imshow(cv2.cvtColor(car_image_copy, cv2.COLOR_BGR2RGB))"
   ]
  },
  {
   "cell_type": "code",
   "execution_count": null,
   "metadata": {
    "colab": {
     "base_uri": "https://localhost:8080/",
     "height": 378
    },
    "id": "HBHi39EPXdmg",
    "outputId": "44cdbaaa-d38c-4cc2-84a7-266bc9f4e56b"
   },
   "outputs": [],
   "source": [
    "# get the location of the detected plate in original image size\n",
    "plate_location_origianl_scale = list()\n",
    "for i in range(len(test_image_orginal_size)):\n",
    "  # this is the location before normalization\n",
    "  plate_location_resized = plate_location[i] * 200\n",
    "  test_image_size = test_image_orginal_size[i]\n",
    "  height, width = test_image_size[0], test_image_size[1]\n",
    "\n",
    "  original_xMax = plate_location_resized[0] * (width / IMAGE_RESIZE_X)\n",
    "  original_xMin = plate_location_resized[1] * (width / IMAGE_RESIZE_X)\n",
    "  original_yMax = plate_location_resized[2] * (height / IMAGE_RESIZE_Y)\n",
    "  original_yMin = plate_location_resized[3] * (height / IMAGE_RESIZE_Y)\n",
    "  plate_location_origianl_scale.append([int(original_xMax), int(original_xMin), int(original_yMax), int(original_yMin)])\n",
    "\n",
    "# plot the detected plate with car in the orginal images\n",
    "plt.figure(figsize=(30,10))\n",
    "for i in range(len(orginal_test_image_list)):\n",
    "  plt.subplot(1, len(orginal_test_image_list), i+1)\n",
    "\n",
    "  # copy the original image so that the original image stays unchanged\n",
    "  image_copy = orginal_test_image_list[i].copy()\n",
    "\n",
    "  # locate the corner of the plate\n",
    "  top_left = (plate_location_origianl_scale[i][1], plate_location_origianl_scale[i][3])\n",
    "  bottom_right = (plate_location_origianl_scale[i][0], plate_location_origianl_scale[i][2])\n",
    "\n",
    "  # display plates\n",
    "  cv2.rectangle(image_copy, top_left, bottom_right, color=(0, 255, 0), thickness=3)\n",
    "  plt.imshow(cv2.cvtColor(image_copy, cv2.COLOR_BGR2RGB))"
   ]
  },
  {
   "cell_type": "markdown",
   "metadata": {
    "id": "IYXO59z3ZZi7"
   },
   "source": [
    "## Increase the size of the bounding box "
   ]
  },
  {
   "cell_type": "code",
   "execution_count": null,
   "metadata": {
    "colab": {
     "base_uri": "https://localhost:8080/",
     "height": 441
    },
    "id": "9glKzBKzZUXI",
    "outputId": "7cc78c5c-951d-44be-d355-a1482db10eb2"
   },
   "outputs": [],
   "source": [
    "# since the CNN can not predict the plate location with 100% accuracy, we can enlarge\n",
    "# the size of the bounding box so that it(hopefully) covers the complete plate\n",
    "plate_image_list = list()\n",
    "\n",
    "# plot the detected plate with car in the orginal images\n",
    "plt.figure(figsize=(30,10))\n",
    "for i in range(len(orginal_test_image_list)):\n",
    "  plt.subplot(1, len(orginal_test_image_list), i+1)\n",
    "\n",
    "  # copy the original image so that the original image stays unchanged\n",
    "  image_copy = orginal_test_image_list[i].copy()\n",
    "\n",
    "  image_size = test_image_orginal_size[i]\n",
    "  image_height = image_size[0]\n",
    "  image_width = image_size[1]\n",
    "\n",
    "  box_image_ratio_height = (plate_location_origianl_scale[i][2] - plate_location_origianl_scale[i][3]) / image_height\n",
    "  box_image_ratio_width = (plate_location_origianl_scale[i][0] - plate_location_origianl_scale[i][1]) / image_width\n",
    "\n",
    "  height_coef = 1 + ((1 / (np.log(box_image_ratio_height))**2) / 2)\n",
    "  width_coef = 1 + ((1 / (np.log(box_image_ratio_width))**2) / 2)\n",
    "  #print(height_coef, width_coef)\n",
    "\n",
    "  # locate the corner of the plate\n",
    "  top_left = (int(plate_location_origianl_scale[i][1] / width_coef), int(plate_location_origianl_scale[i][3] / height_coef))\n",
    "  bottom_right = (int(plate_location_origianl_scale[i][0] * width_coef), int(plate_location_origianl_scale[i][2] * height_coef))\n",
    "\n",
    "  # display plates\n",
    "  cv2.rectangle(image_copy, top_left, bottom_right, color=(0, 255, 0), thickness=3)\n",
    "  plt.imshow(cv2.cvtColor(image_copy, cv2.COLOR_BGR2RGB))\n",
    "  \n",
    "  plate_image = orginal_test_image_list[i][top_left[1]:bottom_right[1], top_left[0]:bottom_right[0],:]\n",
    "  plate_image_list.append(plate_image)"
   ]
  },
  {
   "cell_type": "markdown",
   "metadata": {
    "id": "pil6BQF3ozky"
   },
   "source": [
    "## Read the plate and display results"
   ]
  },
  {
   "cell_type": "code",
   "execution_count": null,
   "metadata": {
    "colab": {
     "base_uri": "https://localhost:8080/",
     "height": 256
    },
    "id": "1kHuZxzYnz5W",
    "outputId": "dc00e30b-2937-48c0-cd3c-0f8c65239e5b"
   },
   "outputs": [],
   "source": [
    "import easyocr\n",
    "\n",
    "# set up the easyocr reader with english\n",
    "reader = easyocr.Reader(['en'])\n",
    "\n",
    "# display the plates with detected text\n",
    "plt.figure(figsize=(30,10))\n",
    "for i, plate in enumerate(plate_image_list):\n",
    "  plt.subplot(1, len(plate_image_list), i+1)\n",
    "  plt.imshow(cv2.cvtColor(plate, cv2.COLOR_BGR2RGB))\n",
    "\n",
    "  bounds = reader.readtext(plate)\n",
    "  title_text = ''\n",
    "  for text in bounds:\n",
    "    title_text += text[1] + ' '\n",
    "  plt.title('Detected Plate Number: ' + title_text, fontdict={'fontsize':20})"
   ]
  },
  {
   "cell_type": "code",
   "execution_count": null,
   "metadata": {},
   "outputs": [],
   "source": []
  },
  {
   "cell_type": "code",
   "execution_count": null,
   "metadata": {},
   "outputs": [],
   "source": []
  },
  {
   "cell_type": "code",
   "execution_count": null,
   "metadata": {},
   "outputs": [],
   "source": []
  }
 ],
 "metadata": {
  "accelerator": "GPU",
  "colab": {
   "collapsed_sections": [],
   "name": "ALPR.ipynb",
   "provenance": []
  },
  "kernelspec": {
   "display_name": "Python 3 (ipykernel)",
   "language": "python",
   "name": "python3"
  },
  "language_info": {
   "codemirror_mode": {
    "name": "ipython",
    "version": 3
   },
   "file_extension": ".py",
   "mimetype": "text/x-python",
   "name": "python",
   "nbconvert_exporter": "python",
   "pygments_lexer": "ipython3",
   "version": "3.9.12"
  }
 },
 "nbformat": 4,
 "nbformat_minor": 1
}
